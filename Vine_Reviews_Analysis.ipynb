{
  "nbformat": 4,
  "nbformat_minor": 0,
  "metadata": {
    "colab": {
      "name": "Vine_Reviews_Analysis.ipynb",
      "provenance": [],
      "collapsed_sections": []
    },
    "kernelspec": {
      "display_name": "PythonData",
      "language": "python",
      "name": "pythondata"
    },
    "language_info": {
      "codemirror_mode": {
        "name": "ipython",
        "version": 3
      },
      "file_extension": ".py",
      "mimetype": "text/x-python",
      "name": "python",
      "nbconvert_exporter": "python",
      "pygments_lexer": "ipython3",
      "version": "3.7.7"
    },
    "nteract": {
      "version": "0.12.3"
    }
  },
  "cells": [
    {
      "cell_type": "code",
      "metadata": {
        "id": "V58rxea0HqSa",
        "colab": {
          "base_uri": "https://localhost:8080/"
        },
        "outputId": "4a892329-f7ec-4489-bd20-b5c93b0271ba"
      },
      "source": [
        "import os\n",
        "# Find the latest version of spark 2.0  from http://www-us.apache.org/dist/spark/ and enter as the spark version\n",
        "# For example:\n",
        "# spark_version = 'spark-3.0.0'\n",
        "spark_version = 'spark-3.0.1'\n",
        "os.environ['SPARK_VERSION']=spark_version\n",
        "\n",
        "# Install Spark and Java\n",
        "!apt-get update\n",
        "!apt-get install openjdk-11-jdk-headless -qq > /dev/null\n",
        "!wget -q http://www-us.apache.org/dist/spark/$SPARK_VERSION/$SPARK_VERSION-bin-hadoop2.7.tgz\n",
        "!tar xf $SPARK_VERSION-bin-hadoop2.7.tgz\n",
        "!pip install -q findspark\n",
        "\n",
        "# Set Environment Variables\n",
        "import os\n",
        "os.environ[\"JAVA_HOME\"] = \"/usr/lib/jvm/java-11-openjdk-amd64\"\n",
        "os.environ[\"SPARK_HOME\"] = f\"/content/{spark_version}-bin-hadoop2.7\"\n",
        "\n",
        "# Start a SparkSession\n",
        "import findspark\n",
        "findspark.init()"
      ],
      "execution_count": null,
      "outputs": [
        {
          "output_type": "stream",
          "text": [
            "\r0% [Working]\r            \rGet:1 https://cloud.r-project.org/bin/linux/ubuntu bionic-cran40/ InRelease [3,626 B]\n",
            "\r0% [Waiting for headers] [Connecting to security.ubuntu.com (91.189.88.142)] [1\r0% [Waiting for headers] [Connecting to security.ubuntu.com (91.189.88.142)] [W\r                                                                               \rIgn:2 https://developer.download.nvidia.com/compute/cuda/repos/ubuntu1804/x86_64  InRelease\n",
            "\r0% [Waiting for headers] [Connecting to security.ubuntu.com (91.189.88.142)] [W\r0% [1 InRelease gpgv 3,626 B] [Waiting for headers] [Connecting to security.ubu\r                                                                               \rHit:3 http://archive.ubuntu.com/ubuntu bionic InRelease\n",
            "\r0% [1 InRelease gpgv 3,626 B] [Waiting for headers] [Waiting for headers] [Wait\r                                                                               \rGet:4 http://ppa.launchpad.net/c2d4u.team/c2d4u4.0+/ubuntu bionic InRelease [15.9 kB]\n",
            "\r0% [1 InRelease gpgv 3,626 B] [Waiting for headers] [Waiting for headers] [4 In\r                                                                               \rIgn:5 https://developer.download.nvidia.com/compute/machine-learning/repos/ubuntu1804/x86_64  InRelease\n",
            "\r0% [1 InRelease gpgv 3,626 B] [Waiting for headers] [Waiting for headers] [4 In\r                                                                               \rGet:6 https://developer.download.nvidia.com/compute/cuda/repos/ubuntu1804/x86_64  Release [697 B]\n",
            "\r0% [1 InRelease gpgv 3,626 B] [Waiting for headers] [Waiting for headers] [4 In\r0% [1 InRelease gpgv 3,626 B] [Waiting for headers] [Waiting for headers] [4 In\r                                                                               \rHit:7 https://developer.download.nvidia.com/compute/machine-learning/repos/ubuntu1804/x86_64  Release\n",
            "Get:8 https://developer.download.nvidia.com/compute/cuda/repos/ubuntu1804/x86_64  Release.gpg [836 B]\n",
            "Get:9 http://archive.ubuntu.com/ubuntu bionic-updates InRelease [88.7 kB]\n",
            "Get:10 http://security.ubuntu.com/ubuntu bionic-security InRelease [88.7 kB]\n",
            "Hit:11 http://ppa.launchpad.net/cran/libgit2/ubuntu bionic InRelease\n",
            "Get:12 https://cloud.r-project.org/bin/linux/ubuntu bionic-cran40/ Packages [44.4 kB]\n",
            "Get:13 http://archive.ubuntu.com/ubuntu bionic-backports InRelease [74.6 kB]\n",
            "Get:14 http://ppa.launchpad.net/graphics-drivers/ppa/ubuntu bionic InRelease [21.3 kB]\n",
            "Ign:16 https://developer.download.nvidia.com/compute/cuda/repos/ubuntu1804/x86_64  Packages\n",
            "Get:16 https://developer.download.nvidia.com/compute/cuda/repos/ubuntu1804/x86_64  Packages [549 kB]\n",
            "Get:17 http://ppa.launchpad.net/c2d4u.team/c2d4u4.0+/ubuntu bionic/main Sources [1,718 kB]\n",
            "Get:18 http://archive.ubuntu.com/ubuntu bionic-updates/restricted amd64 Packages [323 kB]\n",
            "Get:19 http://security.ubuntu.com/ubuntu bionic-security/main amd64 Packages [1,908 kB]\n",
            "Get:20 http://archive.ubuntu.com/ubuntu bionic-updates/universe amd64 Packages [2,156 kB]\n",
            "Get:21 http://ppa.launchpad.net/c2d4u.team/c2d4u4.0+/ubuntu bionic/main amd64 Packages [879 kB]\n",
            "Get:22 http://archive.ubuntu.com/ubuntu bionic-updates/main amd64 Packages [2,348 kB]\n",
            "Get:23 http://archive.ubuntu.com/ubuntu bionic-updates/multiverse amd64 Packages [42.6 kB]\n",
            "Get:24 http://security.ubuntu.com/ubuntu bionic-security/restricted amd64 Packages [291 kB]\n",
            "Get:25 http://security.ubuntu.com/ubuntu bionic-security/universe amd64 Packages [1,383 kB]\n",
            "Get:26 http://ppa.launchpad.net/graphics-drivers/ppa/ubuntu bionic/main amd64 Packages [49.2 kB]\n",
            "Fetched 12.0 MB in 3s (3,501 kB/s)\n",
            "Reading package lists... Done\n"
          ],
          "name": "stdout"
        }
      ]
    },
    {
      "cell_type": "code",
      "metadata": {
        "id": "_xKwTpATHqSe",
        "colab": {
          "base_uri": "https://localhost:8080/"
        },
        "outputId": "8f92358a-c8ed-4e18-d971-213a12dd02df"
      },
      "source": [
        "# Download the Postgres driver that will allow Spark to interact with Postgres.\n",
        "!wget https://jdbc.postgresql.org/download/postgresql-42.2.16.jar"
      ],
      "execution_count": null,
      "outputs": [
        {
          "output_type": "stream",
          "text": [
            "--2021-01-30 07:44:41--  https://jdbc.postgresql.org/download/postgresql-42.2.16.jar\n",
            "Resolving jdbc.postgresql.org (jdbc.postgresql.org)... 72.32.157.228, 2001:4800:3e1:1::228\n",
            "Connecting to jdbc.postgresql.org (jdbc.postgresql.org)|72.32.157.228|:443... connected.\n",
            "HTTP request sent, awaiting response... 200 OK\n",
            "Length: 1002883 (979K) [application/java-archive]\n",
            "Saving to: ‘postgresql-42.2.16.jar’\n",
            "\n",
            "postgresql-42.2.16. 100%[===================>] 979.38K  --.-KB/s    in 0.1s    \n",
            "\n",
            "2021-01-30 07:44:42 (6.50 MB/s) - ‘postgresql-42.2.16.jar’ saved [1002883/1002883]\n",
            "\n"
          ],
          "name": "stdout"
        }
      ]
    },
    {
      "cell_type": "code",
      "metadata": {
        "id": "MMqDAjVS0KN9"
      },
      "source": [
        "from pyspark.sql import SparkSession\n",
        "spark = SparkSession.builder.appName(\"BigData-Challenge\").config(\"spark.driver.extraClassPath\",\"/content/postgresql-42.2.16.jar\").getOrCreate()"
      ],
      "execution_count": null,
      "outputs": []
    },
    {
      "cell_type": "markdown",
      "metadata": {
        "id": "cyBsySGuY-9V"
      },
      "source": [
        "### Load Amazon Data into Spark DataFrame"
      ]
    },
    {
      "cell_type": "code",
      "metadata": {
        "id": "CtCmBhQJY-9Z"
      },
      "source": [
        "from pyspark import SparkFiles\n",
        "url = \"\"\n",
        "spark.sparkContext.addFile(url)\n",
        "df = spark.read.option(\"encoding\", \"UTF-8\").csv(SparkFiles.get(\"\"), sep=\"\\t\", header=True, inferSchema=True)\n",
        "df.show()"
      ],
      "execution_count": null,
      "outputs": []
    },
    {
      "cell_type": "code",
      "metadata": {
        "colab": {
          "base_uri": "https://localhost:8080/"
        },
        "id": "ySATYZV9QX-E",
        "outputId": "bcc2922b-5358-48d4-9f0c-2194a0539460"
      },
      "source": [
        "# Read in data from S3 Buckets\r\n",
        "from pyspark import SparkFiles\r\n",
        "url =\"https://britneydatabucket.s3.us-east-2.amazonaws.com/amazon_reviews_us_Music_v1_00.tsv.gz\"\r\n",
        "spark.sparkContext.addFile(url)\r\n",
        "df = spark.read.option(\"encoding\", \"UTF-8\").csv(SparkFiles.get(\"\"), sep=\"\\t\", header=True, inferSchema=True)\r\n",
        "\r\n",
        "# Show DataFrame\r\n",
        "df.show()"
      ],
      "execution_count": null,
      "outputs": [
        {
          "output_type": "stream",
          "text": [
            "+-----------+-----------+--------------+----------+--------------+--------------------+----------------+-----------+-------------+-----------+----+-----------------+--------------------+--------------------+-----------+\n",
            "|marketplace|customer_id|     review_id|product_id|product_parent|       product_title|product_category|star_rating|helpful_votes|total_votes|vine|verified_purchase|     review_headline|         review_body|review_date|\n",
            "+-----------+-----------+--------------+----------+--------------+--------------------+----------------+-----------+-------------+-----------+----+-----------------+--------------------+--------------------+-----------+\n",
            "|         US|   10140119|R3LI5TRP3YIDQL|B00TXH4OLC|     384427924|Whatever's for Us...|           Music|          5|            0|          0|   N|                Y|          Five Stars|Love this CD alon...| 2015-08-31|\n",
            "|         US|   27664622|R3LGC3EKEG84PX|B00B6QXN6U|     831769051|Same Trailer Diff...|           Music|          5|            0|          0|   N|                Y|A new fave in our...|This is the album...| 2015-08-31|\n",
            "|         US|   45946560| R9PYL3OYH55QY|B001GCZXW6|      14067376| Soaring (Jazz Club)|           Music|          5|            0|          1|   N|                Y|          Five Stars|  Excellent / thanks| 2015-08-31|\n",
            "|         US|   15146326|R3PWBAWUS4NT0Q|B000003EK6|     566295619|     CARIBBEAN PARTY|           Music|          3|            0|          0|   N|                Y|         Three Stars|Nice variety of c...| 2015-08-31|\n",
            "|         US|   16794688|R15LYP3O51UU9E|B00N1F0BKK|     210426072|         Pain Killer|           Music|          5|            0|          0|   N|                Y|          Five Stars|Purchased as a gi...| 2015-08-31|\n",
            "|         US|   32203364|R1AD7L0CC3DSRI|B00V7KAO7Q|     360249504|A Thoughtiverse U...|           Music|          5|            0|          0|   N|                Y|Definitely worth ...|Really enjoyed th...| 2015-08-31|\n",
            "|         US|    1194276|R32FE8Y45QV434|B000094Q4P|      20972283|Comfort of Her Wings|           Music|          5|            0|          0|   N|                Y|          Five Stars|            Great CD| 2015-08-31|\n",
            "|         US|   45813052|R3NM4MZ4XWL43Q|B00JMK0P1I|     378049560|Sleep Soundly CD ...|           Music|          5|            1|          2|   N|                Y|          Five Stars|       Excellent CD!| 2015-08-31|\n",
            "|         US|   12795687|R3H4FXX6Q7I37D|B008OW1S3O|     141620702|     An Awesome Wave|           Music|          4|            0|          0|   N|                Y|          Four Stars|                nice| 2015-08-31|\n",
            "|         US|   36673840|R30L5PET7LFFDC|B00VI2L3L4|     920557135|          Blurryface|           Music|          5|            1|          1|   N|                Y|        Outstanding!|Outstanding music...| 2015-08-31|\n",
            "|         US|   49453576|  REFRE1LEKLAF|B0000041EV|     683128964|Mozart For Mother...|           Music|          4|            1|          1|   N|                Y|          Four Stars|      quite relaxing| 2015-08-31|\n",
            "|         US|    3285047|R3JTJ5EQN74E9H|B00005YW4H|     268461622|   Come Away with Me|           Music|          5|            0|          0|   N|                Y|          Five Stars|I love this CD.  ...| 2015-08-31|\n",
            "|         US|   24471201|R1W2F091LCOAW5|B00Q9KEZV0|     444090572| Tomorrow Is My Turn|           Music|          5|            0|          0|   N|                Y|FIve Stars and Th...|Rhiannon Giddens ...| 2015-08-31|\n",
            "|         US|   28049396| RYUMFQRRB1FNM|B00GFXRKHW|     482597726|       The Outsiders|           Music|          3|            0|          0|   N|                Y|         Three Stars|Wrecking Ball is ...| 2015-08-31|\n",
            "|         US|   41137196| RHCS6VVXWV3Q3|B004L3AQ10|     609457123|  The Lincoln Lawyer|           Music|          5|            0|          0|   N|                Y|          Five Stars|I was pleased wit...| 2015-08-31|\n",
            "|         US|   43305401|R35UL1YZ2142SL|B0000025PM|     125399885|Bach: Goldberg Va...|           Music|          5|            0|          0|   N|                Y|   The Creative Flow|The music that in...| 2015-08-31|\n",
            "|         US|   50808489|  RU1O6QD1LEBB|B00701QUN8|     144457491|Quiet Riot - Grea...|           Music|          5|            0|          0|   N|                Y|          Five Stars|   Excellent CD&#62;| 2015-08-31|\n",
            "|         US|   15536614|R36RXVL3XIZFH7|B003UJC2QI|     207971309|Love Or Money/Lov...|           Music|          5|            0|          0|   N|                N|    Great Pop Single|Love Or Money by ...| 2015-08-31|\n",
            "|         US|   32536909|R16O7SHYHLEYA1|B00LGA16J2|     760666287|Jonas Kaufmann - ...|           Music|          5|            0|          0|   N|                Y|          Five Stars|      Just splendid!| 2015-08-31|\n",
            "|         US|   51160312|R1Y5GX65Z2V9BG|B00ZGVMLLE|      37408836|        Clockworking|           Music|          5|            0|          0|   N|                N|Glorious Glorious...|One of my favorit...| 2015-08-31|\n",
            "+-----------+-----------+--------------+----------+--------------+--------------------+----------------+-----------+-------------+-----------+----+-----------------+--------------------+--------------------+-----------+\n",
            "only showing top 20 rows\n",
            "\n"
          ],
          "name": "stdout"
        }
      ]
    },
    {
      "cell_type": "code",
      "metadata": {
        "colab": {
          "base_uri": "https://localhost:8080/"
        },
        "id": "b6AHfSEUTNDb",
        "outputId": "aac313db-0f70-43ed-c9b9-3b99a41efdcf"
      },
      "source": [
        "df.count()"
      ],
      "execution_count": null,
      "outputs": [
        {
          "output_type": "execute_result",
          "data": {
            "text/plain": [
              "4751577"
            ]
          },
          "metadata": {
            "tags": []
          },
          "execution_count": 7
        }
      ]
    },
    {
      "cell_type": "code",
      "metadata": {
        "colab": {
          "base_uri": "https://localhost:8080/"
        },
        "id": "R4Xmy1oDVT2P",
        "outputId": "7c88ca2e-ae38-4157-90fd-76bca5a20bfc"
      },
      "source": [
        "# Drop duplicates and incomplete rows\r\n",
        "print(df.count())\r\n",
        "df = df.dropna()\r\n",
        "print(df.count())\r\n",
        "df = df.dropDuplicates()\r\n",
        "print(df.count())"
      ],
      "execution_count": null,
      "outputs": [
        {
          "output_type": "stream",
          "text": [
            "4751577\n",
            "4750852\n",
            "4750852\n"
          ],
          "name": "stdout"
        }
      ]
    },
    {
      "cell_type": "code",
      "metadata": {
        "colab": {
          "base_uri": "https://localhost:8080/"
        },
        "id": "9nKtPIGkVUAY",
        "outputId": "ceeccb22-8f55-4d4b-b21f-8b66fe8cf8ec"
      },
      "source": [
        "# Examine the schema\r\n",
        "df.printSchema()"
      ],
      "execution_count": null,
      "outputs": [
        {
          "output_type": "stream",
          "text": [
            "root\n",
            " |-- marketplace: string (nullable = true)\n",
            " |-- customer_id: integer (nullable = true)\n",
            " |-- review_id: string (nullable = true)\n",
            " |-- product_id: string (nullable = true)\n",
            " |-- product_parent: integer (nullable = true)\n",
            " |-- product_title: string (nullable = true)\n",
            " |-- product_category: string (nullable = true)\n",
            " |-- star_rating: integer (nullable = true)\n",
            " |-- helpful_votes: integer (nullable = true)\n",
            " |-- total_votes: integer (nullable = true)\n",
            " |-- vine: string (nullable = true)\n",
            " |-- verified_purchase: string (nullable = true)\n",
            " |-- review_headline: string (nullable = true)\n",
            " |-- review_body: string (nullable = true)\n",
            " |-- review_date: string (nullable = true)\n",
            "\n"
          ],
          "name": "stdout"
        }
      ]
    },
    {
      "cell_type": "markdown",
      "metadata": {
        "id": "2yUSe55VY-9t"
      },
      "source": [
        "### Create Vine DataFrames to match tables"
      ]
    },
    {
      "cell_type": "code",
      "metadata": {
        "id": "lzMmkdKmY--D",
        "colab": {
          "base_uri": "https://localhost:8080/"
        },
        "outputId": "abf5a765-2f01-47d8-d385-af2fcc738b17"
      },
      "source": [
        "# Create the vine_table. DataFrame\n",
        "vine_df = df1.select([\"review_id\", \"star_rating\",\"helpful_votes\",\"total_votes\",\"vine\",\"verified_purchase\"])\n",
        "vine_df.show()"
      ],
      "execution_count": null,
      "outputs": [
        {
          "output_type": "stream",
          "text": [
            "+--------------+-----------+-------------+-----------+----+-----------------+\n",
            "|     review_id|star_rating|helpful_votes|total_votes|vine|verified_purchase|\n",
            "+--------------+-----------+-------------+-----------+----+-----------------+\n",
            "|R1005BINTGKCVE|          5|            0|          0|   N|                Y|\n",
            "|R10067SN6FSII1|          4|            0|          0|   N|                N|\n",
            "|R100NGDZ6CAL8E|          1|            2|          2|   N|                N|\n",
            "|R100OLMAO039IL|          3|            2|          2|   N|                N|\n",
            "| R100OMDUXE5VZ|          4|            0|          0|   N|                Y|\n",
            "|R100RJOC7TCXN6|          5|            2|          2|   N|                Y|\n",
            "|R10182KW3O6486|          4|            5|          6|   N|                N|\n",
            "|R101B8W76YQILD|          4|            5|          5|   N|                N|\n",
            "|R101K97ELZLSDK|          4|            7|          9|   N|                N|\n",
            "|R101MMM4IXONBO|          5|            0|          0|   N|                Y|\n",
            "|R101SUFE1N98DO|          5|            3|          6|   N|                N|\n",
            "|R101Y7O5QCTMH4|          4|            5|          7|   N|                N|\n",
            "|R1020J9O3H1F52|          5|            0|          0|   N|                N|\n",
            "|R1024GZRHXWW2F|          1|            1|          2|   N|                N|\n",
            "|R103EUU3ICAABC|          5|            0|          0|   N|                Y|\n",
            "|R103OL7G6UH70D|          5|            0|          1|   N|                Y|\n",
            "|R103QUGXS88G3Q|          5|            0|          0|   N|                Y|\n",
            "|R103YQAYYNDIFQ|          3|            0|          1|   N|                Y|\n",
            "|R1042TMC188EN8|          5|            0|          0|   N|                Y|\n",
            "| R10469QWP5237|          5|            0|          0|   N|                Y|\n",
            "+--------------+-----------+-------------+-----------+----+-----------------+\n",
            "only showing top 20 rows\n",
            "\n"
          ],
          "name": "stdout"
        }
      ]
    },
    {
      "cell_type": "markdown",
      "metadata": {
        "id": "jITZhLkmY--J"
      },
      "source": [
        "### Connect to the AWS RDS instance and write each DataFrame to its table. "
      ]
    },
    {
      "cell_type": "code",
      "metadata": {
        "id": "7jiUvs1aY--L"
      },
      "source": [
        "# Configure settings for RDS\n",
        "mode = \"append\"\n",
        "#jdbc_url=\"jdbc:postgresql://<endpoint>:5432/<database name>\"\n",
        "jdbc_url=\"jdbc:postgresql://databritney.ccatdehwe7na.us-east-2.rds.amazonaws.com:5432/dataBritney\"\n",
        "config = {\"user\":\"postgres\", \n",
        "          \"password\": \"Chicago2018!\", \n",
        "          \"driver\":\"org.postgresql.Driver\"}"
      ],
      "execution_count": null,
      "outputs": []
    },
    {
      "cell_type": "code",
      "metadata": {
        "id": "XdQknSHLY--e"
      },
      "source": [
        "# Write vine_df to table in RDS\n",
        "# 11 minutes\n",
        "vine_df.write.jdbc(url=jdbc_url, table='vine_table', mode=mode, properties=config)"
      ],
      "execution_count": null,
      "outputs": []
    },
    {
      "cell_type": "markdown",
      "metadata": {
        "id": "FAmwGHk9HMRl"
      },
      "source": [
        "***Deliverable 2: Analyze the data and determine if the Vine reviews are biased.***"
      ]
    },
    {
      "cell_type": "markdown",
      "metadata": {
        "id": "sOR9CGvWHzxz"
      },
      "source": [
        "Our goal in this portion of the challenge is to determine if the Vine reviews are bias. The vine column is in boolean fashion and rows consist of \"**Y\" for \"YES\" and \"N\" for \"NO\"**. It is answering the question, \"Was the review written as part of the Vine program?\".\r\n",
        "\r\n",
        "The analysis steps are:\r\n",
        "\r\n",
        "\r\n",
        "*   We cropped the df.dropna() in the beginning, \r\n",
        "*   We started with the total Vine_df,\r\n",
        "*   fliterd by total_votes >= 20, (vote count over 50% (vote_count[\"helpful_votes\"]/vote_count[\"total_votes\"]>=0.5))\r\n",
        "*   analyzed the five star % when vine == Y (paid)\r\n",
        "*   analyzed the five star % when  vine == N (not paid)\r\n",
        "\r\n"
      ]
    },
    {
      "cell_type": "code",
      "metadata": {
        "colab": {
          "base_uri": "https://localhost:8080/"
        },
        "id": "IDpWMTXOW0tc",
        "outputId": "274a9922-9875-45d8-a234-ce9ceb2444b3"
      },
      "source": [
        "# vine_analysis - let's check the vine_df table schema \r\n",
        "# vine_df = df1.select([\"review_id\", \"star_rating\",\"helpful_votes\",\"total_votes\",\"vine\",\"verified_purchase\"])\r\n",
        "vine_df.printSchema()"
      ],
      "execution_count": null,
      "outputs": [
        {
          "output_type": "stream",
          "text": [
            "root\n",
            " |-- review_id: string (nullable = true)\n",
            " |-- star_rating: integer (nullable = true)\n",
            " |-- helpful_votes: integer (nullable = true)\n",
            " |-- total_votes: integer (nullable = true)\n",
            " |-- vine: string (nullable = true)\n",
            " |-- verified_purchase: string (nullable = true)\n",
            "\n"
          ],
          "name": "stdout"
        }
      ]
    },
    {
      "cell_type": "code",
      "metadata": {
        "id": "wMH2V-PDW0wI"
      },
      "source": [
        "#vote count\r\n",
        "vote_count = df.filter(\"total_votes >= 20\")"
      ],
      "execution_count": null,
      "outputs": []
    },
    {
      "cell_type": "code",
      "metadata": {
        "colab": {
          "base_uri": "https://localhost:8080/"
        },
        "id": "_wtvB2r9W0y5",
        "outputId": "4d5d455f-d0a1-4c82-ce96-0eca7628d736"
      },
      "source": [
        "#create a new DataFrame or table to retrieve all the rows where the number of helpful_votes divided by total_votes is equal to or greater than 50%.\r\n",
        "new_table = vote_count.filter(vote_count[\"helpful_votes\"]/vote_count[\"total_votes\"]>=0.5)\r\n",
        "new_table.show()"
      ],
      "execution_count": null,
      "outputs": [
        {
          "output_type": "stream",
          "text": [
            "+-----------+-----------+--------------+----------+--------------+--------------------+----------------+-----------+-------------+-----------+----+-----------------+--------------------+--------------------+-----------+\n",
            "|marketplace|customer_id|     review_id|product_id|product_parent|       product_title|product_category|star_rating|helpful_votes|total_votes|vine|verified_purchase|     review_headline|         review_body|review_date|\n",
            "+-----------+-----------+--------------+----------+--------------+--------------------+----------------+-----------+-------------+-----------+----+-----------------+--------------------+--------------------+-----------+\n",
            "|         US|   14231359|R12JK6J668AS5Z|B00ZXF9PHG|     990620497|Batman: Arkham Kn...|           Music|          2|           20|         21|   N|                Y|Trashy CD-R Produ...|I really like the...| 2015-07-18|\n",
            "|         US|   42556078|R3M7195WO9ZSXK|B00UN9PP44|     798531319|Sticky Fingers (2...|           Music|          5|           19|         20|   N|                Y|Terrific Live Stones|From the time Sti...| 2015-06-16|\n",
            "|         US|   52210363|R3LNXXTQF0LDB7|B00W8G7J4O|     382817904|Songs of Aloha (O...|           Music|          5|           23|         24|   N|                N|Great Movie and G...|Loved the movie, ...| 2015-06-03|\n",
            "|         US|   35096145|R2M178BCIJBA6R|B00UCFVIDQ|     793981097|     Stages (Deluxe)|           Music|          5|           56|         63|   N|                N|          Five Stars|This is absolutel...| 2015-04-28|\n",
            "|         US|   49363558|R332X14TOSIO5S|B00QAQUG48|     185453140|Father Ray Kelly ...|           Music|          5|           36|         37|   N|                N|Wonder-FULL, deli...|I first heard Fat...| 2015-03-11|\n",
            "|         US|   33864896|R3SR1OM8TWSZFU|B00MNRJP0Y|     613710104|Whiskey A-Go-Go 2...|           Music|          1|           18|         22|   N|                N|\"Atrocious\" is th...|This release is d...| 2015-01-29|\n",
            "|         US|   51873206|R3THJK0F0H90EJ|B00O9KZUHU|     169775971|December Day: Wil...|           Music|          4|           36|         37|   N|                Y|Willie,Bobbie,Tri...|This is a 2014 So...| 2014-12-11|\n",
            "|         US|   17099765|R16PZSY1F77SZL|B00NTDI89K|       5334343|     Vivaldi Edition|           Music|          5|           62|         63|   N|                N|The most authorat...|I am confident to...| 2014-11-27|\n",
            "|         US|   33988533|R1ZIG8SV1EY5UP|B00HW9TJEA|     398902278|      All Night Long|           Music|          4|           21|         22|   N|                Y|Boat Weirdos Live...|Bootlegs are stil...| 2014-10-01|\n",
            "|         US|   33033203| RZ9WBRQ8AHZXN|B005K8H8W0|     881890836|       Siamese Dream|           Music|          3|           29|         29|   N|                N|The amazing dynam...|The songs themsel...| 2014-09-13|\n",
            "|         US|   44932683|R3CK1VXRTL6HXY|B00JQHON74|     421596811|      Heaven & Earth|           Music|          2|           41|         56|   N|                N|                 No.|A new Yes album i...| 2014-07-22|\n",
            "|         US|   29679888|R2S86IBZ8OY575|B00JXETVRC|     632362382|   Redeemer of Souls|           Music|          4|          114|        125|   N|                N|Good Album, Bad P...|With a band lke J...| 2014-07-08|\n",
            "|         US|   40753112|R2JJ9QMTOSLKF4|B00J2PQXQY|     671891793|      KISS 40 [2 CD]|           Music|          4|           45|         56|   N|                N|KISS Celebrates F...|This year marks t...| 2014-05-27|\n",
            "|         US|   23256967| RTJMBT8KE0QHW|B00IQFC0S6|     172434896|            Diamonds|           Music|          5|           21|         21|   N|                N|         A shiny gem|Johnnyswim compri...| 2014-05-14|\n",
            "|         US|   29046036|R27ESH5ZBKQW7J|B00H7MW2SM|     254149704|         St. Vincent|           Music|          4|           39|         45|   N|                N|St Vincent - The ...|4.5 Stars<br /><b...| 2014-02-25|\n",
            "|         US|   46256718|R3JSNP4APSMUG3|B00GJ7CSHG|     409961718|  The Royal Sessions|           Music|          5|           26|         27|   N|                N|A Special Memphis...|“The Royal Sessio...| 2014-02-04|\n",
            "|         US|   21396359|R1HED5XRZYSPVC|B00DQBWLSO|     553039593|     Paradise Valley|           Music|          5|           37|         46|   N|                N|   A guilty pleasure|Christmas came a ...| 2013-12-05|\n",
            "|         US|   16921031|R1ZSE4LBOXJ5QZ|B00ERIUO02|     836984168|      PRISM (Deluxe)|           Music|          5|           41|         49|   N|                N|Katy Perry Done G...|I never really pa...| 2013-11-28|\n",
            "|         US|   45794825|R12LV51AA3YP79|B001FU5O3M|     689185252|    Five Years Later|           Music|          5|           21|         21|   N|                Y|Wonderful recordi...|Only one other re...| 2013-11-08|\n",
            "|         US|   15057909|R1WDKFQ02A0IN2|B00FDXPSII|     416346708|The Complete Albu...|           Music|          1|           57|         68|   N|                Y|No High Res Audio...|This is a review ...| 2013-11-05|\n",
            "+-----------+-----------+--------------+----------+--------------+--------------------+----------------+-----------+-------------+-----------+----+-----------------+--------------------+--------------------+-----------+\n",
            "only showing top 20 rows\n",
            "\n"
          ],
          "name": "stdout"
        }
      ]
    },
    {
      "cell_type": "code",
      "metadata": {
        "colab": {
          "base_uri": "https://localhost:8080/"
        },
        "id": "2CwRAnYfW01Y",
        "outputId": "6104f5f9-0d70-4b26-c808-5675b638dc5b"
      },
      "source": [
        "#reate a new DataFrame or table that retrieves all the rows where a review was written as part of the Vine program (paid), vine == 'Y'\r\n",
        "new_table.filter(new_table[\"vine\"] == \"Y\").show()"
      ],
      "execution_count": null,
      "outputs": [
        {
          "output_type": "stream",
          "text": [
            "+-----------+-----------+--------------+----------+--------------+--------------------+----------------+-----------+-------------+-----------+----+-----------------+--------------------+--------------------+-----------+\n",
            "|marketplace|customer_id|     review_id|product_id|product_parent|       product_title|product_category|star_rating|helpful_votes|total_votes|vine|verified_purchase|     review_headline|         review_body|review_date|\n",
            "+-----------+-----------+--------------+----------+--------------+--------------------+----------------+-----------+-------------+-----------+----+-----------------+--------------------+--------------------+-----------+\n",
            "|         US|   49197984|R1JZ0JAPW83WFS|B001L2I27O|     995259710|          Troubadour|           Music|          4|           54|         58|   Y|                N|An old white lady...|I try to be hip, ...| 2009-05-21|\n",
            "|         US|   53081008| R4V3ICFDTIDIF|B001SMC91M|     609338227|Tell 'Em What You...|           Music|          4|           20|         21|   Y|                N|The Great Grandso...|Hehhhh! Something...| 2009-06-03|\n",
            "|         US|   50779580|R1XH7EA97FAVP7|B0010VD7EO|     600781030|Oracular Spectacular|           Music|          3|           35|         44|   Y|                N|Neo-psychedelic F...|I've heard compla...| 2008-05-06|\n",
            "|         US|   41036875|R1482JAU1ZR7QH|B0010VD7EO|     600781030|Oracular Spectacular|           Music|          4|           15|         22|   Y|                N|Be open-minded an...|This album is lik...| 2008-05-04|\n",
            "|         US|   45725380| R84VUCDBCI29U|B0020H46LK|     630657414|        Losing Sleep|           Music|          3|           18|         28|   Y|                N|Suitable for Mass...|Do you still get ...| 2009-07-31|\n",
            "|         US|   34487454|R1GGYGVTHP84DG|B00113R1I4|     179596053|         Mockingbird|           Music|          4|           25|         27|   Y|                N|Allison Moorer's ...|[[ASIN:B00113R1I4...| 2008-03-18|\n",
            "|         US|   26747773| RXGU9DSKZJSP0|B000WSRPOO|     576432510|  Spirit Of The Glen|           Music|          3|           21|         22|   Y|                N|A Wee Bit Overpro...|I grabbed this wh...| 2008-02-19|\n",
            "+-----------+-----------+--------------+----------+--------------+--------------------+----------------+-----------+-------------+-----------+----+-----------------+--------------------+--------------------+-----------+\n",
            "\n"
          ],
          "name": "stdout"
        }
      ]
    },
    {
      "cell_type": "code",
      "metadata": {
        "colab": {
          "base_uri": "https://localhost:8080/"
        },
        "id": "s3ibfSPTW04T",
        "outputId": "be09c657-f85a-45af-8bbd-ee618cea5e64"
      },
      "source": [
        "#Create a new DataFrame or table that retrieves all the rows where a review was written as part of the Vine program (paid), vine == 'N'\r\n",
        "new_table.filter(new_table[\"vine\"] == \"N\").show()"
      ],
      "execution_count": null,
      "outputs": [
        {
          "output_type": "stream",
          "text": [
            "+-----------+-----------+--------------+----------+--------------+--------------------+----------------+-----------+-------------+-----------+----+-----------------+--------------------+--------------------+-----------+\n",
            "|marketplace|customer_id|     review_id|product_id|product_parent|       product_title|product_category|star_rating|helpful_votes|total_votes|vine|verified_purchase|     review_headline|         review_body|review_date|\n",
            "+-----------+-----------+--------------+----------+--------------+--------------------+----------------+-----------+-------------+-----------+----+-----------------+--------------------+--------------------+-----------+\n",
            "|         US|   14231359|R12JK6J668AS5Z|B00ZXF9PHG|     990620497|Batman: Arkham Kn...|           Music|          2|           20|         21|   N|                Y|Trashy CD-R Produ...|I really like the...| 2015-07-18|\n",
            "|         US|   42556078|R3M7195WO9ZSXK|B00UN9PP44|     798531319|Sticky Fingers (2...|           Music|          5|           19|         20|   N|                Y|Terrific Live Stones|From the time Sti...| 2015-06-16|\n",
            "|         US|   52210363|R3LNXXTQF0LDB7|B00W8G7J4O|     382817904|Songs of Aloha (O...|           Music|          5|           23|         24|   N|                N|Great Movie and G...|Loved the movie, ...| 2015-06-03|\n",
            "|         US|   35096145|R2M178BCIJBA6R|B00UCFVIDQ|     793981097|     Stages (Deluxe)|           Music|          5|           56|         63|   N|                N|          Five Stars|This is absolutel...| 2015-04-28|\n",
            "|         US|   49363558|R332X14TOSIO5S|B00QAQUG48|     185453140|Father Ray Kelly ...|           Music|          5|           36|         37|   N|                N|Wonder-FULL, deli...|I first heard Fat...| 2015-03-11|\n",
            "|         US|   33864896|R3SR1OM8TWSZFU|B00MNRJP0Y|     613710104|Whiskey A-Go-Go 2...|           Music|          1|           18|         22|   N|                N|\"Atrocious\" is th...|This release is d...| 2015-01-29|\n",
            "|         US|   51873206|R3THJK0F0H90EJ|B00O9KZUHU|     169775971|December Day: Wil...|           Music|          4|           36|         37|   N|                Y|Willie,Bobbie,Tri...|This is a 2014 So...| 2014-12-11|\n",
            "|         US|   17099765|R16PZSY1F77SZL|B00NTDI89K|       5334343|     Vivaldi Edition|           Music|          5|           62|         63|   N|                N|The most authorat...|I am confident to...| 2014-11-27|\n",
            "|         US|   33988533|R1ZIG8SV1EY5UP|B00HW9TJEA|     398902278|      All Night Long|           Music|          4|           21|         22|   N|                Y|Boat Weirdos Live...|Bootlegs are stil...| 2014-10-01|\n",
            "|         US|   33033203| RZ9WBRQ8AHZXN|B005K8H8W0|     881890836|       Siamese Dream|           Music|          3|           29|         29|   N|                N|The amazing dynam...|The songs themsel...| 2014-09-13|\n",
            "|         US|   44932683|R3CK1VXRTL6HXY|B00JQHON74|     421596811|      Heaven & Earth|           Music|          2|           41|         56|   N|                N|                 No.|A new Yes album i...| 2014-07-22|\n",
            "|         US|   29679888|R2S86IBZ8OY575|B00JXETVRC|     632362382|   Redeemer of Souls|           Music|          4|          114|        125|   N|                N|Good Album, Bad P...|With a band lke J...| 2014-07-08|\n",
            "|         US|   40753112|R2JJ9QMTOSLKF4|B00J2PQXQY|     671891793|      KISS 40 [2 CD]|           Music|          4|           45|         56|   N|                N|KISS Celebrates F...|This year marks t...| 2014-05-27|\n",
            "|         US|   23256967| RTJMBT8KE0QHW|B00IQFC0S6|     172434896|            Diamonds|           Music|          5|           21|         21|   N|                N|         A shiny gem|Johnnyswim compri...| 2014-05-14|\n",
            "|         US|   29046036|R27ESH5ZBKQW7J|B00H7MW2SM|     254149704|         St. Vincent|           Music|          4|           39|         45|   N|                N|St Vincent - The ...|4.5 Stars<br /><b...| 2014-02-25|\n",
            "|         US|   46256718|R3JSNP4APSMUG3|B00GJ7CSHG|     409961718|  The Royal Sessions|           Music|          5|           26|         27|   N|                N|A Special Memphis...|“The Royal Sessio...| 2014-02-04|\n",
            "|         US|   21396359|R1HED5XRZYSPVC|B00DQBWLSO|     553039593|     Paradise Valley|           Music|          5|           37|         46|   N|                N|   A guilty pleasure|Christmas came a ...| 2013-12-05|\n",
            "|         US|   16921031|R1ZSE4LBOXJ5QZ|B00ERIUO02|     836984168|      PRISM (Deluxe)|           Music|          5|           41|         49|   N|                N|Katy Perry Done G...|I never really pa...| 2013-11-28|\n",
            "|         US|   45794825|R12LV51AA3YP79|B001FU5O3M|     689185252|    Five Years Later|           Music|          5|           21|         21|   N|                Y|Wonderful recordi...|Only one other re...| 2013-11-08|\n",
            "|         US|   15057909|R1WDKFQ02A0IN2|B00FDXPSII|     416346708|The Complete Albu...|           Music|          1|           57|         68|   N|                Y|No High Res Audio...|This is a review ...| 2013-11-05|\n",
            "+-----------+-----------+--------------+----------+--------------+--------------------+----------------+-----------+-------------+-----------+----+-----------------+--------------------+--------------------+-----------+\n",
            "only showing top 20 rows\n",
            "\n"
          ],
          "name": "stdout"
        }
      ]
    },
    {
      "cell_type": "code",
      "metadata": {
        "colab": {
          "base_uri": "https://localhost:8080/"
        },
        "id": "nBG68yX3sLrh",
        "outputId": "b5de3f59-3c81-4c3b-ee07-067eb381a557"
      },
      "source": [
        "# cout the vine_df\r\n",
        "vine_df.count()"
      ],
      "execution_count": null,
      "outputs": [
        {
          "output_type": "execute_result",
          "data": {
            "text/plain": [
              "4750852"
            ]
          },
          "metadata": {
            "tags": []
          },
          "execution_count": 89
        }
      ]
    },
    {
      "cell_type": "code",
      "metadata": {
        "colab": {
          "base_uri": "https://localhost:8080/"
        },
        "id": "mw66PNfhXUp1",
        "outputId": "b742e577-e4de-4b29-fe92-20911af6eba2"
      },
      "source": [
        "# number of five star reviews\r\n",
        "five_star = new_table.filter(new_table[\"star_rating\"]== 5)\r\n",
        "five_star.cache()"
      ],
      "execution_count": null,
      "outputs": [
        {
          "output_type": "execute_result",
          "data": {
            "text/plain": [
              "DataFrame[marketplace: string, customer_id: int, review_id: string, product_id: string, product_parent: int, product_title: string, product_category: string, star_rating: int, helpful_votes: int, total_votes: int, vine: string, verified_purchase: string, review_headline: string, review_body: string, review_date: string]"
            ]
          },
          "metadata": {
            "tags": []
          },
          "execution_count": 83
        }
      ]
    },
    {
      "cell_type": "code",
      "metadata": {
        "colab": {
          "base_uri": "https://localhost:8080/"
        },
        "id": "y5Re6i4QXUss",
        "outputId": "e0e25ae5-ab38-4275-fca0-2cd7df98600d"
      },
      "source": [
        "# cout the five star\r\n",
        "five_star.count()"
      ],
      "execution_count": null,
      "outputs": [
        {
          "output_type": "execute_result",
          "data": {
            "text/plain": [
              "67568"
            ]
          },
          "metadata": {
            "tags": []
          },
          "execution_count": 84
        }
      ]
    },
    {
      "cell_type": "code",
      "metadata": {
        "colab": {
          "base_uri": "https://localhost:8080/"
        },
        "id": "NUvA8TDCXUvZ",
        "outputId": "3eb35caf-a655-4ec1-b209-221142c0cf34"
      },
      "source": [
        "#total reviews\r\n",
        "new_table.count()"
      ],
      "execution_count": null,
      "outputs": [
        {
          "output_type": "execute_result",
          "data": {
            "text/plain": [
              "105969"
            ]
          },
          "metadata": {
            "tags": []
          },
          "execution_count": 85
        }
      ]
    },
    {
      "cell_type": "code",
      "metadata": {
        "colab": {
          "base_uri": "https://localhost:8080/"
        },
        "id": "GkqMEfTvXUxv",
        "outputId": "d7fc9e10-0347-4145-cfc7-fa595cc37b08"
      },
      "source": [
        "#total reviews\r\n",
        "new_table.count()"
      ],
      "execution_count": null,
      "outputs": [
        {
          "output_type": "execute_result",
          "data": {
            "text/plain": [
              "105969"
            ]
          },
          "metadata": {
            "tags": []
          },
          "execution_count": 86
        }
      ]
    },
    {
      "cell_type": "code",
      "metadata": {
        "colab": {
          "base_uri": "https://localhost:8080/"
        },
        "id": "IiUB6lThXU00",
        "outputId": "5f948185-9fed-4c03-d93b-e76a243a9086"
      },
      "source": [
        "#percentage of paid reviews\r\n",
        "five_star.filter(five_star[\"verified_purchase\"] == \"Y\").count()/new_table.filter(new_table[\"verified_purchase\"]== \"Y\").count()"
      ],
      "execution_count": null,
      "outputs": [
        {
          "output_type": "execute_result",
          "data": {
            "text/plain": [
              "0.6676168119830092"
            ]
          },
          "metadata": {
            "tags": []
          },
          "execution_count": 87
        }
      ]
    },
    {
      "cell_type": "code",
      "metadata": {
        "colab": {
          "base_uri": "https://localhost:8080/"
        },
        "id": "-JJVmQ2uXunS",
        "outputId": "2604ed9d-78de-4939-b0b9-09970d3157ea"
      },
      "source": [
        "#percentage of unpaid reviews\r\n",
        "five_star.filter(five_star[\"verified_purchase\"] == \"N\").count()/new_table.filter(new_table[\"verified_purchase\"]== \"N\").count()"
      ],
      "execution_count": null,
      "outputs": [
        {
          "output_type": "execute_result",
          "data": {
            "text/plain": [
              "0.631526959365101"
            ]
          },
          "metadata": {
            "tags": []
          },
          "execution_count": 88
        }
      ]
    },
    {
      "cell_type": "markdown",
      "metadata": {
        "id": "Bjw2HKqorqUS"
      },
      "source": [
        "**determining if the Vine reviews are biased**\r\n",
        "\r\n",
        "Here is the final summary:\r\n",
        "\r\n",
        "*   Total rows of Vine_df: 4750852\r\n",
        "*   Total Reviews (vote count> 50% and total_votes > 20):105969\r\n",
        "*   Total five star_counts: 67568\r\n",
        "*   analyzed the five star % when vine == Y (Paid):0.6676168119830092\r\n",
        "*   analyzed the five star % when vine == N (not paid): 0.631526959365101\r\n",
        "\r\n",
        "In this summary, when vine is Yes (means paid), the five star rate is slightly higher, and seems biased \r\n",
        "\r\n",
        "(0.6676168119830092 - 0.631526959365101 = 0.0360 )\r\n",
        "\r\n",
        "Although, it is possible that there could have other factors, or it is a simply coinsident, and my conclusion is it maybe be biased, but not a gerat deal and certain.\r\n",
        "Thank you! It is a greatly fun project.\r\n",
        "\r\n",
        "---\r\n",
        "\r\n",
        "\r\n"
      ]
    }
  ]
}